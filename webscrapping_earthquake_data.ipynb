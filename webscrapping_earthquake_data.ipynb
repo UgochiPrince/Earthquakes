{
 "cells": [
  {
   "cell_type": "code",
   "execution_count": 29,
   "metadata": {},
   "outputs": [],
   "source": [
    "# Import relevant libraries\n",
    "from splinter import Browser\n",
    "from bs4 import BeautifulSoup as soup\n",
    "import matplotlib.pyplot as plt\n",
    "import pandas as pd\n",
    "from webdriver_manager.chrome import ChromeDriverManager"
   ]
  },
  {
   "cell_type": "code",
   "execution_count": 33,
   "metadata": {},
   "outputs": [],
   "source": [
    "# browser = Browser('chrome')\n",
    "executable_path = {'executable_path': ChromeDriverManager().install()}\n",
    "browser = Browser('chrome', **executable_path, headless=False)"
   ]
  },
  {
   "cell_type": "code",
   "execution_count": 34,
   "metadata": {},
   "outputs": [],
   "source": [
    "# Visit the website\n",
    "url = \"https://www.usgs.gov/programs/earthquake-hazards/lists-maps-and-statistics\"\n",
    "browser.visit(url)"
   ]
  },
  {
   "cell_type": "code",
   "execution_count": 35,
   "metadata": {},
   "outputs": [],
   "source": [
    "# Create a Beautiful Soup Object\n",
    "html = browser.html\n",
    "\n",
    "soup = soup(html, 'html.parser')"
   ]
  },
  {
   "cell_type": "code",
   "execution_count": 36,
   "metadata": {},
   "outputs": [
    {
     "name": "stdout",
     "output_type": "stream",
     "text": [
      "<table>\n",
      "<thead>\n",
      "<tr>\n",
      "<th>Magnitude</th>\n",
      "<th>2000</th>\n",
      "<th>2001</th>\n",
      "<th>2002</th>\n",
      "<th>2003</th>\n",
      "<th>2004</th>\n",
      "<th>2005</th>\n",
      "<th>2006</th>\n",
      "<th>2007</th>\n",
      "<th>2008</th>\n",
      "<th>2009</th>\n",
      "<th>2010</th>\n",
      "<th>2011</th>\n",
      "<th>2012</th>\n",
      "<th>2013</th>\n",
      "<th>2014</th>\n",
      "<th>2015</th>\n",
      "<th>2016</th>\n",
      "<th>2017</th>\n",
      "<th>2018</th>\n",
      "<th>2019</th>\n",
      "<th>2020</th>\n",
      "<th>2021</th>\n",
      "</tr>\n",
      "</thead>\n",
      "<tbody>\n",
      "<tr>\n",
      "<th>8.0+</th>\n",
      "<td>1</td>\n",
      "<td>1</td>\n",
      "<td>0</td>\n",
      "<td>1</td>\n",
      "<td>2</td>\n",
      "<td>1</td>\n",
      "<td>2</td>\n",
      "<td>4</td>\n",
      "<td>0</td>\n",
      "<td>1</td>\n",
      "<td>1</td>\n",
      "<td>1</td>\n",
      "<td>2</td>\n",
      "<td>2</td>\n",
      "<td>1</td>\n",
      "<td>1</td>\n",
      "<td>0</td>\n",
      "<td>1</td>\n",
      "<td>1</td>\n",
      "<td>1</td>\n",
      "<td>0</td>\n",
      "<td>3</td>\n",
      "</tr>\n",
      "<tr>\n",
      "<th>7–7.9</th>\n",
      "<td>14</td>\n",
      "<td>15</td>\n",
      "<td>13</td>\n",
      "<td>14</td>\n",
      "<td>14</td>\n",
      "<td>10</td>\n",
      "<td>9</td>\n",
      "<td>14</td>\n",
      "<td>12</td>\n",
      "<td>16</td>\n",
      "<td>23</td>\n",
      "<td>19</td>\n",
      "<td>12</td>\n",
      "<td>17</td>\n",
      "<td>11</td>\n",
      "<td>18</td>\n",
      "<td>16</td>\n",
      "<td>6</td>\n",
      "<td>16</td>\n",
      "<td>9</td>\n",
      "<td>9</td>\n",
      "<td>16</td>\n",
      "</tr>\n",
      "<tr>\n",
      "<th>6–6.9</th>\n",
      "<td>146</td>\n",
      "<td>121</td>\n",
      "<td>127</td>\n",
      "<td>140</td>\n",
      "<td>141</td>\n",
      "<td>140</td>\n",
      "<td>142</td>\n",
      "<td>178</td>\n",
      "<td>168</td>\n",
      "<td>144</td>\n",
      "<td>150</td>\n",
      "<td>185</td>\n",
      "<td>108</td>\n",
      "<td>123</td>\n",
      "<td>143</td>\n",
      "<td>127</td>\n",
      "<td>130</td>\n",
      "<td>104</td>\n",
      "<td>117</td>\n",
      "<td>135</td>\n",
      "<td>112</td>\n",
      "<td>140</td>\n",
      "</tr>\n",
      "<tr>\n",
      "<th>5–5.9</th>\n",
      "<td>1344</td>\n",
      "<td>1224</td>\n",
      "<td>1201</td>\n",
      "<td>1203</td>\n",
      "<td>1515</td>\n",
      "<td>1693</td>\n",
      "<td>1712</td>\n",
      "<td>2074</td>\n",
      "<td>1768</td>\n",
      "<td>1896</td>\n",
      "<td>2209</td>\n",
      "<td>2276</td>\n",
      "<td>1401</td>\n",
      "<td>1453</td>\n",
      "<td>1574</td>\n",
      "<td>1419</td>\n",
      "<td>1550</td>\n",
      "<td>1455</td>\n",
      "<td>1674</td>\n",
      "<td>1492</td>\n",
      "<td>1312</td>\n",
      "<td>2047</td>\n",
      "</tr>\n",
      "<tr>\n",
      "<th>Estimated<br/>\n",
      "\t\t\tDeaths</th>\n",
      "<td>231</td>\n",
      "<td>21357</td>\n",
      "<td>1685</td>\n",
      "<td>33819</td>\n",
      "<td>298101</td>\n",
      "<td>87992</td>\n",
      "<td>6605</td>\n",
      "<td>708</td>\n",
      "<td>88708</td>\n",
      "<td>1790</td>\n",
      "<td>226050</td>\n",
      "<td>21942</td>\n",
      "<td>689</td>\n",
      "<td>1572</td>\n",
      "<td>756</td>\n",
      "<td>9624</td>\n",
      "<td>1297</td>\n",
      "<td>1012</td>\n",
      "<td>4535</td>\n",
      "<td>244</td>\n",
      "<td>not avail</td>\n",
      "<td>not avail</td>\n",
      "</tr>\n",
      "</tbody>\n",
      "</table>\n"
     ]
    }
   ],
   "source": [
    "# Extract earthquake results 2000-2021\n",
    "earth_2000= soup.find('table')\n",
    "print (earth_2000)"
   ]
  },
  {
   "cell_type": "code",
   "execution_count": 43,
   "metadata": {},
   "outputs": [],
   "source": [
    "# empty list\n",
    "#data = []\n",
    "\n",
    "# for getting the header from\n",
    "# the HTML file\n",
    "#list_header = []\n",
    "for i in range(4):\n",
    "    if i ==1:\n",
    "        table1 = soup.find_all(\"table\")[i]\n",
    "    elif i==3:\n",
    "        table2 = soup.find_all(\"table\")[i]"
   ]
  },
  {
   "cell_type": "code",
   "execution_count": 44,
   "metadata": {},
   "outputs": [
    {
     "data": {
      "text/plain": [
       "<table>\n",
       "<thead>\n",
       "<tr>\n",
       "<th>Magnitude</th>\n",
       "<th>1990</th>\n",
       "<th>1991</th>\n",
       "<th>1992</th>\n",
       "<th>1993</th>\n",
       "<th>1994</th>\n",
       "<th>1995</th>\n",
       "<th>1996</th>\n",
       "<th>1997</th>\n",
       "<th>1998</th>\n",
       "<th>1999</th>\n",
       "</tr>\n",
       "</thead>\n",
       "<tbody>\n",
       "<tr>\n",
       "<th>8+</th>\n",
       "<td>0</td>\n",
       "<td>0</td>\n",
       "<td>0</td>\n",
       "<td>0</td>\n",
       "<td>0</td>\n",
       "<td>0</td>\n",
       "<td>0</td>\n",
       "<td>0</td>\n",
       "<td>0</td>\n",
       "<td>0</td>\n",
       "</tr>\n",
       "<tr>\n",
       "<th>7–7.9</th>\n",
       "<td>0</td>\n",
       "<td>1</td>\n",
       "<td>2</td>\n",
       "<td>0</td>\n",
       "<td>1</td>\n",
       "<td>0</td>\n",
       "<td>2</td>\n",
       "<td>0</td>\n",
       "<td>0</td>\n",
       "<td>1</td>\n",
       "</tr>\n",
       "<tr>\n",
       "<th>6–6.9</th>\n",
       "<td>2</td>\n",
       "<td>4</td>\n",
       "<td>15</td>\n",
       "<td>9</td>\n",
       "<td>4</td>\n",
       "<td>6</td>\n",
       "<td>4</td>\n",
       "<td>6</td>\n",
       "<td>3</td>\n",
       "<td>6</td>\n",
       "</tr>\n",
       "<tr>\n",
       "<th>5–5.9</th>\n",
       "<td>64</td>\n",
       "<td>49</td>\n",
       "<td>72</td>\n",
       "<td>62</td>\n",
       "<td>64</td>\n",
       "<td>45</td>\n",
       "<td>100</td>\n",
       "<td>63</td>\n",
       "<td>62</td>\n",
       "<td>50</td>\n",
       "</tr>\n",
       "</tbody>\n",
       "</table>"
      ]
     },
     "execution_count": 44,
     "metadata": {},
     "output_type": "execute_result"
    }
   ],
   "source": [
    "# second table 1990-1999 data\n",
    "table2"
   ]
  },
  {
   "cell_type": "code",
   "execution_count": 45,
   "metadata": {},
   "outputs": [
    {
     "data": {
      "text/plain": [
       "[]"
      ]
     },
     "execution_count": 45,
     "metadata": {},
     "output_type": "execute_result"
    }
   ],
   "source": [
    "# Creat a Pandas Dataframe for 2000-2021 data\n"
   ]
  },
  {
   "cell_type": "code",
   "execution_count": null,
   "metadata": {},
   "outputs": [],
   "source": [
    "# Create a Pandas DataFrame for 1990-1999\n"
   ]
  },
  {
   "cell_type": "code",
   "execution_count": null,
   "metadata": {},
   "outputs": [],
   "source": [
    "# Confirm DataFrame was created successfully\n"
   ]
  },
  {
   "cell_type": "code",
   "execution_count": null,
   "metadata": {},
   "outputs": [],
   "source": [
    "# Examine data type of each column\n"
   ]
  },
  {
   "cell_type": "code",
   "execution_count": null,
   "metadata": {},
   "outputs": [],
   "source": [
    "# save to sql database"
   ]
  },
  {
   "cell_type": "code",
   "execution_count": null,
   "metadata": {},
   "outputs": [],
   "source": [
    "browser.quit()"
   ]
  }
 ],
 "metadata": {
  "kernelspec": {
   "display_name": "Python 3 (ipykernel)",
   "language": "python",
   "name": "python3"
  },
  "language_info": {
   "codemirror_mode": {
    "name": "ipython",
    "version": 3
   },
   "file_extension": ".py",
   "mimetype": "text/x-python",
   "name": "python",
   "nbconvert_exporter": "python",
   "pygments_lexer": "ipython3",
   "version": "3.10.9"
  }
 },
 "nbformat": 4,
 "nbformat_minor": 2
}
